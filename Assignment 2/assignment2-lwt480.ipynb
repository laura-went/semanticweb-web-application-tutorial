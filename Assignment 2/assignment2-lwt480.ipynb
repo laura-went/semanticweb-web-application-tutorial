{
 "cells": [
  {
   "cell_type": "markdown",
   "metadata": {
    "collapsed": true
   },
   "source": [
    "# Knowledge and Data 2018: Second practical assignment \n",
    "## Manipulate local and external RDF Data "
   ]
  },
  {
   "cell_type": "markdown",
   "metadata": {},
   "source": [
    "Your name: Laura Went\n",
    "\n",
    "Your VUNetID: lwt480 (studentNr.: 2570654)\n",
    "\n",
    "If you do not provide your name and VUNetID we will not accept your submission. "
   ]
  },
  {
   "cell_type": "markdown",
   "metadata": {},
   "source": [
    "### Learning objectives"
   ]
  },
  {
   "cell_type": "markdown",
   "metadata": {},
   "source": [
    "At the end of this exercise you should be able to perform some simple manipulations of RDF Data using the rdflib library. You should be able to \n",
    "\n",
    "1. add and retrieve information from a local RDF database\n",
    "2. represent RDF data in other formats, such as the .dot format for graph visualisation\n",
    "3. retrieve information from an RDF database created from Web Data\n",
    "4. query information from the Web with SPARQL\n"
   ]
  },
  {
   "cell_type": "markdown",
   "metadata": {},
   "source": [
    "### Practicalities"
   ]
  },
  {
   "cell_type": "markdown",
   "metadata": {},
   "source": [
    "Follow this Notebook step-by-step. \n",
    "\n",
    "Of course, you can do the exercises in any Programming Editor of your liking. \n",
    "But you do not have to. Feel free to simply write code in the Notebook. When \n",
    "everything is filled in and works, safe the Notebook and submit it \n",
    "as a Jupyter Notebook, i.e. with an ipynb extension. Please use as name of the \n",
    "Notebook your studentID+Assignment2.ipynb.  \n",
    "\n",
    "Other than in courses dedicated to programming we will not evaluate the style\n",
    "of the programs. But we will test your programs on other data than we provide, \n",
    "and your program should give the correct answers to those test-data as well. "
   ]
  },
  {
   "cell_type": "markdown",
   "metadata": {},
   "source": [
    "## Exercises related to local RDF"
   ]
  },
  {
   "cell_type": "markdown",
   "metadata": {},
   "source": [
    "This first cell will open a file 'example-from-slide.ttl' using the rdflib library. The first Practical Assignment should have taught you that manipulating symbols as strings is a major pain. Programming libraries, such as rdflib, help you with mess once and for all, by parsing the files, creating appropriate datastructures (Graph()) and providing useful functions (such as serialize(), save() and much more. Check the website of rdflib http://rdflib.readthedocs.io/: this library does most of the hard work for you. "
   ]
  },
  {
   "cell_type": "code",
   "execution_count": 3,
   "metadata": {},
   "outputs": [],
   "source": [
    "from rdflib import Graph, RDF, Namespace, Literal, URIRef\n",
    "\n",
    "g = Graph()\n",
    "\n",
    "EX = Namespace('http://example.com/kad2017/')\n",
    "g.bind('ex',EX)\n",
    "\n",
    "def serialize():\n",
    "    # g.serialize() returns a byte string (b'...')\n",
    "    # .decode() is parsing the byte string into a python3 string\n",
    "    print(g.serialize(format='turtle').decode(\"utf-8\"))\n",
    "\n",
    "def save(filename):\n",
    "    with open(filename, 'w') as f:\n",
    "        g.serialize(f, format='turtle')\n",
    "        \n",
    "def load(filename):\n",
    "    with open(filename, 'r') as f:\n",
    "        g.load(f, format='turtle')   "
   ]
  },
  {
   "cell_type": "markdown",
   "metadata": {},
   "source": [
    "The file 'example-from-slides.ttl' formalises the knowledge base from the slides from Module 1, and a bit more. \n",
    "\n",
    "Here is how it looks when you load it into your program and serialise it with rdflib in turtle. "
   ]
  },
  {
   "cell_type": "code",
   "execution_count": 4,
   "metadata": {
    "scrolled": false
   },
   "outputs": [
    {
     "name": "stdout",
     "output_type": "stream",
     "text": [
      "@prefix dbo: <http://dbpedia.org/ontology/> .\n",
      "@prefix dbr: <http://dbpedia.org/resource/> .\n",
      "@prefix ex: <http://example.com/kad2017/> .\n",
      "@prefix rdf: <http://www.w3.org/1999/02/22-rdf-syntax-ns#> .\n",
      "@prefix rdfs: <http://www.w3.org/2000/01/rdf-schema#> .\n",
      "@prefix xml: <http://www.w3.org/XML/1998/namespace> .\n",
      "@prefix xsd: <http://www.w3.org/2001/XMLSchema#> .\n",
      "\n",
      "ex:Germany a ex:EuropeanCountry .\n",
      "\n",
      "ex:Netherlands a ex:Country ;\n",
      "    ex:has_Capital ex:Amsterdam ;\n",
      "    ex:has_Name \"TheNetherlands\" ;\n",
      "    ex:neighbours ex:Belgium .\n",
      "\n",
      "ex:hasCapital rdfs:range ex:Capital ;\n",
      "    rdfs:subPropertyOf ex:containsCity .\n",
      "\n",
      "ex:Amsterdam a ex:Capital .\n",
      "\n",
      "ex:Belgium a ex:Country .\n",
      "\n",
      "ex:EuropeanCountry rdfs:subClassOf ex:Country .\n",
      "\n",
      "ex:containsCity rdfs:domain ex:Country ;\n",
      "    rdfs:range ex:City .\n",
      "\n",
      "ex:Capital rdfs:subClassOf ex:City .\n",
      "\n",
      "\n"
     ]
    }
   ],
   "source": [
    "load('example-from-slides.ttl')\n",
    "serialize()"
   ]
  },
  {
   "cell_type": "markdown",
   "metadata": {},
   "source": [
    "Now, we can manipulate, the graph very easily, e.g. like in the following very simple function: "
   ]
  },
  {
   "cell_type": "code",
   "execution_count": 5,
   "metadata": {
    "scrolled": true
   },
   "outputs": [
    {
     "name": "stdout",
     "output_type": "stream",
     "text": [
      "http://example.com/kad2017/has_Name\n"
     ]
    }
   ],
   "source": [
    "for s,p,o in g:\n",
    "    if type(o) == Literal:\n",
    "        print(p)"
   ]
  },
  {
   "cell_type": "markdown",
   "metadata": {},
   "source": [
    "### Task 1a) (1 Point) Add information to an RDF graph"
   ]
  },
  {
   "cell_type": "markdown",
   "metadata": {},
   "source": [
    "Add 10 triples to the knowledge graph. Make sure that they have the right namespaces: \n",
    "\n",
    "http://rdflib.readthedocs.io/en/stable/intro_to_creating_rdf.html\n",
    "\n",
    "Add at least a new country and its capital, as well as at least one triple with a new predicate. "
   ]
  },
  {
   "cell_type": "code",
   "execution_count": 67,
   "metadata": {},
   "outputs": [
    {
     "name": "stdout",
     "output_type": "stream",
     "text": [
      "@prefix ex: <http://example.com/kad2017/> .\n",
      "@prefix rdf: <http://www.w3.org/1999/02/22-rdf-syntax-ns#> .\n",
      "@prefix rdfs: <http://www.w3.org/2000/01/rdf-schema#> .\n",
      "@prefix xml: <http://www.w3.org/XML/1998/namespace> .\n",
      "@prefix xsd: <http://www.w3.org/2001/XMLSchema#> .\n",
      "\n",
      "ex:Czech ex:language_Of ex:CzechRepublic .\n",
      "\n",
      "ex:Prague a ex:City ;\n",
      "    ex:capital_Of ex:CzechRepublic ;\n",
      "    ex:has_Name \"Prague\" .\n",
      "\n",
      "ex:CZ ex:has_Capital ex:Praque .\n",
      "\n",
      "ex:Country rdfs:subClassOf ex:EuropeanCountry .\n",
      "\n",
      "ex:CzechRepublic a ex:Country ;\n",
      "    ex:has_Name \"CzechRepublic\" ;\n",
      "    ex:same_As ex:CZ .\n",
      "\n",
      "\n"
     ]
    }
   ],
   "source": [
    "from rdflib import Graph, RDF, RDFS, Namespace, Literal, URIRef\n",
    "g = Graph()\n",
    "EX = Namespace('http://example.com/kad2017/')\n",
    "g.bind('ex',EX)\n",
    "\n",
    "country = URIRef(\"http://example.com/kad2017/Country\")\n",
    "europeanCountry = URIRef(\"http://example.com/kad2017/EuropeanCountry\")\n",
    "CzechRepublic = EX[\"CzechRepublic\"] \n",
    "\n",
    "g.add( (CzechRepublic, RDF.type, country) )\n",
    "g.add( (CzechRepublic, EX[\"has_Name\"], Literal(\"CzechRepublic\")) )\n",
    "g.add( (country, RDFS.subClassOf, europeanCountry) )\n",
    "g.add( (CzechRepublic, EX[\"same_As\"], EX[\"CZ\"]) )\n",
    "g.add( (CzechRepublic, RDF.type, EX[\"Country\"]) )\n",
    "\n",
    "g.add( (EX[\"Prague\"], RDF.type, EX[\"City\"]) )\n",
    "g.add( (EX[\"Prague\"], EX[\"has_Name\"], Literal(\"Prague\")) )\n",
    "g.add( (EX[\"CZ\"], EX[\"has_Capital\"], EX[\"Praque\"]) )\n",
    "g.add( (EX[\"Prague\"], EX[\"capital_Of\"], EX[\"CzechRepublic\"]) )\n",
    "\n",
    "g.add( (EX[\"Czech\"], EX[\"language_Of\"], EX[\"CzechRepublic\"]))\n",
    "\n",
    "\n",
    "print(g.serialize(format='turtle').decode(\"utf-8\"))\n",
    "\n",
    "\n"
   ]
  },
  {
   "cell_type": "markdown",
   "metadata": {},
   "source": [
    "After you ran this code (adding triples) the next cells will be executed on your extended graph. That is ok. "
   ]
  },
  {
   "cell_type": "markdown",
   "metadata": {},
   "source": [
    "### Task 1b) (1 Point) Get structured information from an RDF graph  "
   ]
  },
  {
   "cell_type": "markdown",
   "metadata": {},
   "source": [
    "Use the functions available in the RDFLib library. Write a small function to print all Literals. Hint: there is a function in rdflib to test the type of an object. "
   ]
  },
  {
   "cell_type": "code",
   "execution_count": 68,
   "metadata": {},
   "outputs": [
    {
     "name": "stdout",
     "output_type": "stream",
     "text": [
      "CzechRepublic\n",
      "Prague\n"
     ]
    }
   ],
   "source": [
    "for s,p,o in g:\n",
    "    if type(o)==Literal:\n",
    "        print (o)"
   ]
  },
  {
   "cell_type": "markdown",
   "metadata": {},
   "source": [
    "Please provide another function that gives a unique list of the predicates, ordered by occurrence (most occurring first). The answer will look like this: \n",
    "<br>http://www.w3.org/2000/01/rdf-schema#label\n",
    "<br>http://www.w3.org/1999/02/22-rdf-syntax-ns#type\n",
    "<br>http://example.com/sw2016/locatedIn\n",
    "<br>http://www.w3.org/2000/01/rdf-schema#range"
   ]
  },
  {
   "cell_type": "code",
   "execution_count": 69,
   "metadata": {},
   "outputs": [
    {
     "name": "stdout",
     "output_type": "stream",
     "text": [
      "2 times:  http://example.com/kad2017/has_Name\n",
      "2 times:  http://www.w3.org/1999/02/22-rdf-syntax-ns#type\n",
      "1 times:  http://www.w3.org/2000/01/rdf-schema#subClassOf\n",
      "1 times:  http://example.com/kad2017/has_Capital\n",
      "1 times:  http://example.com/kad2017/same_As\n",
      "1 times:  http://example.com/kad2017/capital_Of\n",
      "1 times:  http://example.com/kad2017/language_Of\n"
     ]
    }
   ],
   "source": [
    "predicateCounts = {}\n",
    "for s,p,o in g:\n",
    "    if p in predicateCounts:\n",
    "        predicateCounts[p] += 1\n",
    "    elif p not in predicateCounts:\n",
    "        predicateCounts[p] = 1\n",
    "predicateCountsSorted = sorted(predicateCounts.items(), key=lambda x: x[1])\n",
    "predicateCountsSorted.reverse()\n",
    "\n",
    "for x,y in predicateCountsSorted:\n",
    "    print(str(y) + \" times:  \", end='')\n",
    "    print(x)"
   ]
  },
  {
   "cell_type": "markdown",
   "metadata": {
    "collapsed": true
   },
   "source": [
    "### Task 2) An RDF syntaxes for Graph visualisations "
   ]
  },
  {
   "cell_type": "markdown",
   "metadata": {},
   "source": [
    "### Task 2a): (1 Points) From RDF to .dot \n"
   ]
  },
  {
   "cell_type": "markdown",
   "metadata": {},
   "source": [
    "In the lecture, we have seen two ways of writing a knowledge graph (simple n-triples, and simple turtle). Let us consider a 3rd syntax, this time a syntax that is useful for visualisation. One standard for visualising graphs is the .dot format.\n",
    "\n",
    "Print the knowledge graph in .dot file format. Check https://graphviz.gitlab.io/documentation/ for the documentation. You will only need very little of this information, and the most relevant information can be found in the examples that are given. \n",
    "\n",
    "<br>Basically, an RDF graph in .dot format starts with \n",
    "<br>digraph G { \n",
    "    and then a list of linkes of the following form \n",
    "<br>s -> o [label=\"p\"]\n",
    "    for every (s p o ) in KG (separated by ;\n",
    "<br>Do not forget to end with a closing bracket. }\n",
    "\n",
    "An example is \n",
    "     \n",
    "     digraph G { s1 -> o1 [label=\"p1\"] ; s2 -> o2 [label=\"p2\"] } \n",
    "     \n",
    "for an RDF graph {(s1 p1 o1),(s2 p2 o2)}"
   ]
  },
  {
   "cell_type": "code",
   "execution_count": 70,
   "metadata": {
    "scrolled": true
   },
   "outputs": [
    {
     "name": "stdout",
     "output_type": "stream",
     "text": [
      "digraph G {\n",
      "\"ex:Czech\" -> \"ex:CzechRepublic\" [label=\"ex:language_Of\"] ;\n",
      "\"ex:Prague\" -> \"ex:CzechRepublic\" [label=\"ex:capital_Of\"] ;\n",
      "\"ex:CzechRepublic\" -> \"ex:Country\" [label=\"rdf:type\"] ;\n",
      "\"ex:CzechRepublic\" -> CzechRepublic [label=\"ex:has_Name\"] ;\n",
      "\"ex:CzechRepublic\" -> \"ex:CZ\" [label=\"ex:same_As\"] ;\n",
      "\"ex:CZ\" -> \"ex:Praque\" [label=\"ex:has_Capital\"] ;\n",
      "\"ex:Prague\" -> Prague [label=\"ex:has_Name\"] ;\n",
      "\"ex:Country\" -> \"ex:EuropeanCountry\" [label=\"rdfs:subClassOf\"] ;\n",
      "\"ex:Prague\" -> \"ex:City\" [label=\"rdf:type\"] \n",
      "}\n"
     ]
    }
   ],
   "source": [
    "def shorten(uri):\n",
    "    if isinstance(uri, Literal):\n",
    "        return uri\n",
    "\n",
    "    components = g.namespace_manager.compute_qname(uri)\n",
    "    return '\"%s:%s\"'%(components[0], components[2])\n",
    "def rdfDot():\n",
    "    printGraph = \"digraph G {\"\n",
    "    for s,p,o in g:\n",
    "        printGraph += \"\\n\" + shorten(s) + \" -> \" + shorten(o) + \" [label=\" + shorten(p) + \"] ;\" \n",
    "    printGraph = printGraph[:-1] + \"\\n}\" \n",
    "    print(printGraph)\n",
    "        \n",
    "rdfDot()"
   ]
  },
  {
   "cell_type": "markdown",
   "metadata": {},
   "source": [
    "You can check how your graph looks like. Just copy&paste your output into, e.g.,  http://www.webgraphviz.com/"
   ]
  },
  {
   "cell_type": "markdown",
   "metadata": {},
   "source": [
    "### Task 2b) (1 Point) From RDF to .dot with \"semantic information\""
   ]
  },
  {
   "cell_type": "markdown",
   "metadata": {},
   "source": [
    "There is a conceptual distinction between properties, instances and classes (sets of instances). A simple way of checking is the following\n",
    "\n",
    "1. in a triple (s a o), with predicate a (which is a special abbreviation for the predicate rdf:type), the s is an Instance, and o is a Class. \n",
    "2. in a triple (s rdfs:subClassOf o) both s and o are Classes. \n",
    "3. in a triple (p rdfs:domain o) p is a Property and o is a Class. \n",
    "4. in a triple (p rdfs:range o)  p is a Property and o is a Class. \n",
    "\n",
    "Make a .dot representation for an RDF graph that distinguishes between types of links (RDF vocabulary vs others) and types of nodes (Classes versus Instances) via different colors. "
   ]
  },
  {
   "cell_type": "code",
   "execution_count": 71,
   "metadata": {},
   "outputs": [
    {
     "name": "stdout",
     "output_type": "stream",
     "text": [
      "digraph G {\n",
      "\"ex:Czech\" [color=green] ;\n",
      "\"ex:CzechRepublic\" [color=green] ;\n",
      " edge [color=orange] ;\n",
      "\"ex:Czech\" -> \"ex:CzechRepublic\" [label=\"ex:language_Of\"] ;\n",
      "\"ex:Prague\" [color=green] ;\n",
      "\"ex:CzechRepublic\" [color=green] ;\n",
      " edge [color=orange] ;\n",
      "\"ex:Prague\" -> \"ex:CzechRepublic\" [label=\"ex:capital_Of\"] ;\n",
      "\"ex:CzechRepublic\" [color=red] ;\n",
      "\"ex:Country\" [color=green] ;\n",
      " edge [color=blue] ;\n",
      "\"ex:CzechRepublic\" -> \"ex:Country\" [label=\"rdf:type\"] ;\n",
      "\"ex:CzechRepublic\" [color=green] ;\n",
      "CzechRepublic [color=green] ;\n",
      " edge [color=orange] ;\n",
      "\"ex:CzechRepublic\" -> CzechRepublic [label=\"ex:has_Name\"] ;\n",
      "\"ex:CzechRepublic\" [color=green] ;\n",
      "\"ex:CZ\" [color=green] ;\n",
      " edge [color=orange] ;\n",
      "\"ex:CzechRepublic\" -> \"ex:CZ\" [label=\"ex:same_As\"] ;\n",
      "\"ex:CZ\" [color=green] ;\n",
      "\"ex:Praque\" [color=green] ;\n",
      " edge [color=orange] ;\n",
      "\"ex:CZ\" -> \"ex:Praque\" [label=\"ex:has_Capital\"] ;\n",
      "\"ex:Prague\" [color=green] ;\n",
      "Prague [color=green] ;\n",
      " edge [color=orange] ;\n",
      "\"ex:Prague\" -> Prague [label=\"ex:has_Name\"] ;\n",
      "\"ex:Country\" [color=green] ;\n",
      "\"ex:EuropeanCountry\" [color=green] ;\n",
      " edge [color=blue] ;\n",
      "\"ex:Country\" -> \"ex:EuropeanCountry\" [label=\"rdfs:subClassOf\"] ;\n",
      "\"ex:Prague\" [color=red] ;\n",
      "\"ex:City\" [color=green] ;\n",
      " edge [color=blue] ;\n",
      "\"ex:Prague\" -> \"ex:City\" [label=\"rdf:type\"] \n",
      "}\n"
     ]
    }
   ],
   "source": [
    "# instance red, class green , RDF blue, links(ex) orange, property yellow\n",
    "\n",
    "def rdfDot2():\n",
    "    printGraph = \"digraph G {\"\n",
    "    for s,p,o in g:\n",
    "        if shorten(p) == '\"rdf:type\"':\n",
    "            printGraph += \"\\n\" + shorten(s) + \" [color=red] ;\\n\" + shorten(o) + \" [color=green] ;\\n edge [color=blue] ;\\n\" + shorten(s) + \" -> \" + shorten(o) + \" [label=\" + shorten(p) + \"] ;\" \n",
    "        elif shorten(p) == '\"rdfs:subClassOf\"':\n",
    "            printGraph += \"\\n\" + shorten(s) + \" [color=green] ;\\n\" + shorten(o) + \" [color=green] ;\\n edge [color=blue] ;\\n\" + shorten(s) + \" -> \" + shorten(o) + \" [label=\" + shorten(p) + \"] ;\" \n",
    "        elif shorten(p) == '\"rdfs:domain\"':\n",
    "            printGraph += \"\\n\" + shorten(s) + \" [color=yellow] ;\\n\" + shorten(o) + \" [color=green] ;\\n edge [color=blue] ;\\n\" + shorten(s) + \" -> \" + shorten(o) + \" [label=\" + shorten(p) + \"] ;\" \n",
    "        elif shorten(p) == '\"rdfs:range\"':\n",
    "            printGraph += \"\\n\" + shorten(s) + \" [color=yellow] ;\\n\" + shorten(o) + \" [color=green] ;\\n edge [color=blue] ;\\n\" + shorten(s) + \" -> \" + shorten(o) + \" [label=\" + shorten(p) + \"] ;\" \n",
    "        else:\n",
    "            printGraph += \"\\n\" + shorten(s) + \" [color=green] ;\\n\" + shorten(o) + \" [color=green] ;\\n edge [color=orange] ;\\n\" + shorten(s) + \" -> \" + shorten(o) + \" [label=\" + shorten(p) + \"] ;\" \n",
    "    printGraph = printGraph[:-1] + \"\\n}\" \n",
    "    print(printGraph)\n",
    "        \n",
    "rdfDot2()\n"
   ]
  },
  {
   "cell_type": "markdown",
   "metadata": {},
   "source": [
    "### Task 3) (2 Points) Visualising implicit knowledge (a bit of schema)\n",
    "\n",
    "We will look into Schema information in the latter modules, but let us try already to find some implicit information in a first bit of inferencing: whenever there are two statements (s a o) and (o rdfs:subClassOf o2) we can derive (and later prove) that (s a o2). \n",
    "\n",
    "Write a procedure that adds all implied triples for our knowledge base. \n",
    "\n",
    "Produce a .dot version of the graph with those implies implicit triples, and mark the edges of those triples with a different color or arrow style. "
   ]
  },
  {
   "cell_type": "code",
   "execution_count": 76,
   "metadata": {},
   "outputs": [
    {
     "name": "stdout",
     "output_type": "stream",
     "text": [
      "digraph G {\n",
      "\"ex:Czech\" [color=green] ;\n",
      "\"ex:CzechRepublic\" [color=green] ;\n",
      " edge [color=orange] ;\n",
      "\"ex:Czech\" -> \"ex:CzechRepublic\" [label=\"ex:language_Of\"] ;\n",
      "\"ex:Prague\" [color=green] ;\n",
      "\"ex:CzechRepublic\" [color=green] ;\n",
      " edge [color=orange] ;\n",
      "\"ex:Prague\" -> \"ex:CzechRepublic\" [label=\"ex:capital_Of\"] ;\n",
      "\"ex:CzechRepublic\" [color=red] ;\n",
      "\"ex:Country\" [color=green] ;\n",
      " edge [color=blue] ;\n",
      "\"ex:CzechRepublic\" -> \"ex:Country\" [label=\"rdf:type\"] ;\n",
      "\"ex:CzechRepublic\" [color=green] ;\n",
      "CzechRepublic [color=green] ;\n",
      " edge [color=orange] ;\n",
      "\"ex:CzechRepublic\" -> CzechRepublic [label=\"ex:has_Name\"] ;\n",
      "\"ex:CzechRepublic\" [color=green] ;\n",
      "\"ex:CZ\" [color=green] ;\n",
      " edge [color=orange] ;\n",
      "\"ex:CzechRepublic\" -> \"ex:CZ\" [label=\"ex:same_As\"] ;\n",
      "\"ex:CZ\" [color=green] ;\n",
      "\"ex:Praque\" [color=green] ;\n",
      " edge [color=orange] ;\n",
      "\"ex:CZ\" -> \"ex:Praque\" [label=\"ex:has_Capital\"] ;\n",
      "\"ex:Prague\" [color=green] ;\n",
      "Prague [color=green] ;\n",
      " edge [color=orange] ;\n",
      "\"ex:Prague\" -> Prague [label=\"ex:has_Name\"] ;\n",
      "\"ex:Country\" [color=green] ;\n",
      "\"ex:EuropeanCountry\" [color=green] ;\n",
      " edge [color=blue] ;\n",
      "\"ex:Country\" -> \"ex:EuropeanCountry\" [label=\"rdfs:subClassOf\"] ;\n",
      "\"ex:Prague\" [color=red] ;\n",
      "\"ex:City\" [color=green] ;\n",
      " edge [color=blue] ;\n",
      "\"ex:Prague\" -> \"ex:City\" [label=\"rdf:type\"] ;\n",
      " edge [color=cyan] ;\n",
      "\"ex:CzechRepublic\" -> \"ex:EuropeanCountry\" [label=\"rdf:type\"] \n",
      "}\n"
     ]
    }
   ],
   "source": [
    "def implicit():\n",
    "    typeDict = {}\n",
    "    extra = \"\"\n",
    "    for s,p,o in g:\n",
    "        if shorten(p) == '\"rdf:type\"':\n",
    "            typeDict[shorten(s)] = shorten(o)\n",
    "    for s,p,o in g:\n",
    "        if shorten(p) == '\"rdfs:subClassOf\"':\n",
    "            for key,val in typeDict.items():\n",
    "                if shorten(s) == val:\n",
    "                    extra += \"\\n edge [color=cyan] ;\\n\" + key + \" -> \" + shorten(o) + \" [label=\" + '\"rdf:type\"' + \"] ;\"\n",
    "    printGraph = \"digraph G {\"\n",
    "    for s,p,o in g:\n",
    "        if shorten(p) == '\"rdf:type\"':\n",
    "            printGraph += \"\\n\" + shorten(s) + \" [color=red] ;\\n\" + shorten(o) + \" [color=green] ;\\n edge [color=blue] ;\\n\" + shorten(s) + \" -> \" + shorten(o) + \" [label=\" + shorten(p) + \"] ;\" \n",
    "        elif shorten(p) == '\"rdfs:subClassOf\"':\n",
    "            printGraph += \"\\n\" + shorten(s) + \" [color=green] ;\\n\" + shorten(o) + \" [color=green] ;\\n edge [color=blue] ;\\n\" + shorten(s) + \" -> \" + shorten(o) + \" [label=\" + shorten(p) + \"] ;\" \n",
    "        elif shorten(p) == '\"rdfs:domain\"':\n",
    "            printGraph += \"\\n\" + shorten(s) + \" [color=yellow] ;\\n\" + shorten(o) + \" [color=green] ;\\n edge [color=blue] ;\\n\" + shorten(s) + \" -> \" + shorten(o) + \" [label=\" + shorten(p) + \"] ;\" \n",
    "        elif shorten(p) == '\"rdfs:range\"':\n",
    "            printGraph += \"\\n\" + shorten(s) + \" [color=yellow] ;\\n\" + shorten(o) + \" [color=green] ;\\n edge [color=blue] ;\\n\" + shorten(s) + \" -> \" + shorten(o) + \" [label=\" + shorten(p) + \"] ;\" \n",
    "        else:\n",
    "            printGraph += \"\\n\" + shorten(s) + \" [color=green] ;\\n\" + shorten(o) + \" [color=green] ;\\n edge [color=orange] ;\\n\" + shorten(s) + \" -> \" + shorten(o) + \" [label=\" + shorten(p) + \"] ;\" \n",
    "    printGraph += extra\n",
    "    printGraph = printGraph[:-1] + \"\\n}\" \n",
    "    print(printGraph)        \n",
    "    \n",
    "    \n",
    "implicit()\n"
   ]
  },
  {
   "cell_type": "markdown",
   "metadata": {},
   "source": [
    "# Tasks related to local copies of external RDF Datasets using SPARQL"
   ]
  },
  {
   "cell_type": "markdown",
   "metadata": {
    "collapsed": true
   },
   "source": [
    "Until now, we have manipulated local knowledge, but as we claimed in the lectures, the advantage of knowledge graphs is that they can easily be linked with other datasets on the web. \n",
    "\n",
    "In these remaining 3 tasks, we will manipulate webdata, and ask complex queries over this web data. In the first task, we will access web-data, make a local copy and then query it. \n",
    "\n",
    "In the other two tasks, we will query live data directly from web databases (in this case, the SPARQL endpoint of DBPedia). "
   ]
  },
  {
   "cell_type": "markdown",
   "metadata": {},
   "source": [
    "### Task 4) (1 Point) Show and manipulate data about RDF resources on the Web "
   ]
  },
  {
   "cell_type": "markdown",
   "metadata": {},
   "source": [
    "With rdflib we can easily load a graph, even if it comes from a source on the Web. The following snupped loads as graph the information about the resource Amsterdam from Dbpedia."
   ]
  },
  {
   "cell_type": "code",
   "execution_count": 77,
   "metadata": {},
   "outputs": [],
   "source": [
    "import rdflib\n",
    "from rdflib import Literal, URIRef\n",
    "g=rdflib.Graph()\n",
    "g.load('http://dbpedia.org/resource/Amsterdam')\n",
    "g.load('http://dbpedia.org/resource/Rotterdam')"
   ]
  },
  {
   "cell_type": "markdown",
   "metadata": {},
   "source": [
    "Let us start by showing diverse bits of information w.r.t  Amsterdam and Rotterdam n DBPedia. It is a very similar tasks to task 1, but now with Web Data. \n",
    "\n",
    "First, query the graph g (now containing the DBPedia information about Amsterdam and Rotterdam) and check whether you can find someone who was born in Amsterdam (is dbo:birthPlace of) and died in Rotterdam (is dbo:deathPlace of)?"
   ]
  },
  {
   "cell_type": "code",
   "execution_count": 79,
   "metadata": {},
   "outputs": [
    {
     "name": "stdout",
     "output_type": "stream",
     "text": [
      "http://dbpedia.org/resource/Haya_van_Someren\n",
      "http://dbpedia.org/resource/Anthony_Sweijs\n",
      "http://dbpedia.org/resource/Jan_Stolker\n",
      "http://dbpedia.org/resource/Jan_van_Beveren\n"
     ]
    }
   ],
   "source": [
    "# THIS code is an example to make you get going. It shows how to run a sparql query on g. \n",
    "# gres is then a list of results, which you can print. \n",
    "#\n",
    "# You should adapt the code for your purposes.\n",
    "\n",
    "qres = g.query(\n",
    "    \"\"\"PREFIX dbr:<http://dbpedia.org/resource/>\n",
    "        PREFIX dbo:<http://dbpedia.org/ontology/>\n",
    "        SELECT ?value\n",
    "        WHERE {\n",
    "        ?value dbo:birthPlace dbr:Amsterdam .\n",
    "        ?value dbo:deathPlace dbr:Rotterdam .\n",
    "        }\n",
    "        LIMIT 10\n",
    "       \"\"\")\n",
    "\n",
    "for row in qres:\n",
    "    print(\"%s\" % row)"
   ]
  },
  {
   "cell_type": "markdown",
   "metadata": {},
   "source": [
    "Write a query to check whether there is an album that was recorded both in Rotterdam and Amsterdam? You need to look at the data to know which property you should check for. To get an intuition of what is in the knowledge graph you might want to look at the human readable rendering on : http://dbpedia.org/resource/Amsterdam"
   ]
  },
  {
   "cell_type": "code",
   "execution_count": 80,
   "metadata": {
    "scrolled": true
   },
   "outputs": [],
   "source": [
    "#see above"
   ]
  },
  {
   "cell_type": "markdown",
   "metadata": {},
   "source": [
    "### Task 5) (2 points) Ask SPARQL against live data using Yasgui\n",
    "\n",
    "Yasgui (http://yasgui.org/) is a nice graphical interface for asking queries \n",
    "Run a new query against http://dbpedia.org/sparql that does the following:\n",
    "\n",
    "    Find all languages spoken in countries that are not official languages of that country\n",
    "    The query should return two colums: the country, and the number of languages.\n",
    "    Order the countries by the number of unofficial languages, from high to low."
   ]
  },
  {
   "cell_type": "code",
   "execution_count": 85,
   "metadata": {},
   "outputs": [
    {
     "ename": "SyntaxError",
     "evalue": "invalid syntax (<ipython-input-85-023ff33efc96>, line 5)",
     "output_type": "error",
     "traceback": [
      "\u001b[0;36m  File \u001b[0;32m\"<ipython-input-85-023ff33efc96>\"\u001b[0;36m, line \u001b[0;32m5\u001b[0m\n\u001b[0;31m    PREFIX dbp: <http://dbpedia.org/property/>\u001b[0m\n\u001b[0m             ^\u001b[0m\n\u001b[0;31mSyntaxError\u001b[0m\u001b[0;31m:\u001b[0m invalid syntax\n"
     ]
    }
   ],
   "source": [
    "# Add here the SPARQL query (not Python) code. (copy&paste from Yasgui)\n",
    "# When executing against Yasgui you should get an answer. \n",
    "# Don't worry that executing this cel will give an error message. \n",
    "\n",
    "PREFIX dbp: <http://dbpedia.org/property/>\n",
    "PREFIX dbo: <http://dbpedia.org/ontology/>\n",
    "\n",
    "SELECT DISTINCT ?x (count(?language) as ?count)\n",
    "WHERE {\n",
    " ?x a dbo:Country;\n",
    "    a dbo:Location .\n",
    "  {?x dbo:language|dbp:languages ?language} MINUS {?x dbo:officialLanguage ?language} .\n",
    "} ORDER BY DESC(?count)"
   ]
  },
  {
   "cell_type": "markdown",
   "metadata": {},
   "source": [
    "### Task 6) (2 Point) SPARQL \n",
    "\n",
    "Write a SPARQL query which returns all relationship(s) between the series \"Homeland\" and \"Claire Danes\" (literally).\n",
    "\n",
    "Use Yasgui to design the correct SPARQL query, and copy paste it in the cell below. "
   ]
  },
  {
   "cell_type": "code",
   "execution_count": 1,
   "metadata": {},
   "outputs": [
    {
     "ename": "SyntaxError",
     "evalue": "invalid syntax (<ipython-input-1-5ad9a369df70>, line 5)",
     "output_type": "error",
     "traceback": [
      "\u001b[0;36m  File \u001b[0;32m\"<ipython-input-1-5ad9a369df70>\"\u001b[0;36m, line \u001b[0;32m5\u001b[0m\n\u001b[0;31m    PREFIX foaf: <http://xmlns.com/foaf/0.1/>\u001b[0m\n\u001b[0m              ^\u001b[0m\n\u001b[0;31mSyntaxError\u001b[0m\u001b[0;31m:\u001b[0m invalid syntax\n"
     ]
    }
   ],
   "source": [
    "# Add here the SPARQL query (not Python) code. (copy&paste from Yasgui)\n",
    "# When executing against Yasgui you should get an answer. \n",
    "# Don't worry that executing this cel will give an error message. \n",
    "\n",
    "PREFIX foaf: <http://xmlns.com/foaf/0.1/>\n",
    "\n",
    "SELECT DISTINCT ?p\n",
    "WHERE {\n",
    "  ?Homeland foaf:name \"Homeland\"@en .\n",
    "?Claire foaf:name \"Claire Danes\"@en .\n",
    "  {?Homeland ?p ?Claire} UNION {?Claire ?p ?Homeland} .\n",
    "} \n"
   ]
  },
  {
   "cell_type": "code",
   "execution_count": null,
   "metadata": {},
   "outputs": [],
   "source": []
  }
 ],
 "metadata": {
  "kernelspec": {
   "display_name": "Python 3",
   "language": "python",
   "name": "python3"
  },
  "language_info": {
   "codemirror_mode": {
    "name": "ipython",
    "version": 3
   },
   "file_extension": ".py",
   "mimetype": "text/x-python",
   "name": "python",
   "nbconvert_exporter": "python",
   "pygments_lexer": "ipython3",
   "version": "3.6.5"
  }
 },
 "nbformat": 4,
 "nbformat_minor": 2
}
