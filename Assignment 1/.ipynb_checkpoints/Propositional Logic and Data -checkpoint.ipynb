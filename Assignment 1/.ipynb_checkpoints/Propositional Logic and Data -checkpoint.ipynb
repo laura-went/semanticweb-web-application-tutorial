{
 "cells": [
  {
   "cell_type": "markdown",
   "metadata": {
    "collapsed": true
   },
   "source": [
    "# Knowledge and Data 2018: First practical assignment \n",
    "## Manipulate Propositional Logic and Simple Knowledge Graph Logic"
   ]
  },
  {
   "cell_type": "markdown",
   "metadata": {},
   "source": [
    "Your name: Laura Went\n",
    "\n",
    "Your VUNetID: 2570654\n",
    "\n",
    "If you do not provide your name and VUNetID we will not accept your submission. "
   ]
  },
  {
   "cell_type": "markdown",
   "metadata": {},
   "source": [
    "### Learning objectives"
   ]
  },
  {
   "cell_type": "markdown",
   "metadata": {},
   "source": [
    "At the end of this exercise you should be able to perform some simple manipulations of two different formal systems: \n",
    "1. You will be able to transform Propositional Logic statements from one syntactic form to semantically equivalent  alternative representation.\n",
    "2. You will be able to evaluate a Propositional Logic statements given some validation of the propositional variables. \n",
    "3. You will be able to transform one Knowledge Graph into an equivalent one with a different Syntax \n",
    "4. You will be able to calculate simple entailment between two Knowledge Graph"
   ]
  },
  {
   "cell_type": "markdown",
   "metadata": {},
   "source": [
    "### Practicalities"
   ]
  },
  {
   "cell_type": "markdown",
   "metadata": {},
   "source": [
    "Follow this Notebook step-by-step. Some of the exercises are already \n",
    "fully filled in to give you some examples of how to do things. Others are\n",
    "partially filled, and require you to fill in some gaps. And others, you \n",
    "will have to fully program yourself. \n",
    "\n",
    "Of course, you can do the exercises in any Programming Editor of your liking. \n",
    "But you do not have to. Feel free to simply write codein the Notebook. When \n",
    "everythink is filled in and works, safe the Notebook and submit it \n",
    "as a Jupyter Notebook, i.e. with an ipynb extension. Please use as name of the \n",
    "Notebook your studentID+Assignment1.ipynb.  \n",
    "\n",
    "\n",
    "Other than in courses dedicated to programming we will not evaluate the style\n",
    "of the programs. But we will test your programs on other data than we provide, \n",
    "and your program should give the correct answers to those test-data as well. "
   ]
  },
  {
   "cell_type": "markdown",
   "metadata": {},
   "source": [
    "## Exercises related to Propositional Logic "
   ]
  },
  {
   "cell_type": "markdown",
   "metadata": {},
   "source": [
    "We will use a very simple, though crude and ugly, representation for Propositional Logic: Propositions are strings, and formulas are lists, starting with an operator as first element in the list, and the subformulas as second and (if appropriate) third argument. (Note that this is slightly different than the definition in the lecture, where Propositions are lists with one argument). These are formulas in Prefix Notation.\n",
    "\n",
    "In the file, there is one formula per line. \n",
    "\n",
    "For simplicity, we will only consider formulas with any of the three variables P, Q and R, and binary operators \">> (if), & (and), | (or)\" and \"~ (not)\". "
   ]
  },
  {
   "cell_type": "markdown",
   "metadata": {},
   "source": [
    "Here are some formulas as examples.\n",
    "\n",
    "(~R & P) >> Q\n",
    "\n",
    "~(((P | ~Q) >> R) >> (P & R)) \n",
    "\n",
    "~(P >> Q) | (R >> P) \n",
    "\n",
    "(P >> Q) | (Q >> ~P)\n"
   ]
  },
  {
   "cell_type": "markdown",
   "metadata": {},
   "source": [
    "The first thing you will have to do is to open the file. The code below will read every line of the file into a list called *content*.\n",
    "\n",
    "Do *not* forget to run the following cell, otherwise, the file will not be opened. import os \n"
   ]
  },
  {
   "cell_type": "code",
   "execution_count": 3,
   "metadata": {},
   "outputs": [],
   "source": [
    "import os \n",
    "from logic import *"
   ]
  },
  {
   "cell_type": "code",
   "execution_count": 7,
   "metadata": {},
   "outputs": [
    {
     "name": "stdout",
     "output_type": "stream",
     "text": [
      "/mnt/c/Users/laura/Documenten/GitHub/semanticweb-web-application-tutorial/Assignment 1/PLknowledgebase.txt\n",
      "['(~R & P) >> Q\\n', '~(((P | ~Q) >> R) >> (P & R)) \\n', '~(P >> Q) | (R >> P) \\n', '(P >> Q) | (Q >> ~P)']\n"
     ]
    }
   ],
   "source": [
    "fileDir = os.path.dirname(os.path.realpath('__file__'))\n",
    "filename = os.path.join(fileDir, 'PLknowledgebase.txt')\n",
    "print(filename)\n",
    "with open(filename) as file:\n",
    "    content = file.readlines()\n",
    "     \n",
    "print(content)"
   ]
  },
  {
   "cell_type": "code",
   "execution_count": 8,
   "metadata": {},
   "outputs": [
    {
     "name": "stdout",
     "output_type": "stream",
     "text": [
      "\n",
      "(¬R ^ P) => Q\n",
      "False\n",
      "<class 'logic.Implies'>\n",
      "\n",
      "¬(((P v ¬Q) => R) => (P ^ R))\n",
      "False\n",
      "<class 'logic.Not'>\n",
      "\n",
      "¬(P => Q) v (R => P)\n",
      "False\n",
      "<class 'logic.Or'>\n",
      "\n",
      "(P => Q) v (Q => ¬P)\n",
      "True\n",
      "<class 'logic.Or'>\n"
     ]
    }
   ],
   "source": [
    "P, Q, R = vars('P', 'Q', 'R')\n",
    "\n",
    "for line in content:\n",
    "    formula = eval(line.strip())\n",
    "    print()\n",
    "    print(formula)\n",
    "    print(formula.is_tautology())\n",
    "    print(type(formula))\n"
   ]
  },
  {
   "cell_type": "markdown",
   "metadata": {},
   "source": [
    "The last procedure makes use of the inbuilt properties of the logic package. Let us do similar stuff ourselves. \n",
    "\n",
    "### Task 1) (1 Point) Complete the procedure *prefix* that transforms the formula into Prefix notation, i.e., the operator \"sits\" in front of the two arguments.\n",
    "Also use different symbols for operators, IMP for implication, AND for conjunction, OR for disjunction and NEG for negation. "
   ]
  },
  {
   "cell_type": "code",
   "execution_count": 26,
   "metadata": {},
   "outputs": [],
   "source": [
    "def prefix(s):\n",
    "    if type(s) is Or:\n",
    "        child1 = s.children[0]\n",
    "        child2 = s.children[1]\n",
    "        string = \"(OR\" + prefix(child1) + prefix(child2) + \")\";\n",
    "        return string\n",
    "    elif type(s) is And:\n",
    "        child1 = s.children[0]\n",
    "        child2 = s.children[1]\n",
    "        string = \"(AND\" + prefix(child1) + prefix(child2) + \")\";\n",
    "        return string\n",
    "    elif type(s) is Not:\n",
    "        child1 = s.children[0]\n",
    "        string = \"(NEG\" + prefix(child1) + \")\";\n",
    "        return string\n",
    "    elif type(s) is Implies:\n",
    "        child1 = s.children[0]\n",
    "        child2 = s.children[1]\n",
    "        string = \"(IMP\" + prefix(child1) + prefix(child2) + \")\";\n",
    "        return string\n",
    "    else:\n",
    "        return  \"(\" + str(s) + \")\""
   ]
  },
  {
   "cell_type": "markdown",
   "metadata": {},
   "source": [
    "Execute the following line of code to check whether your procedure works correctly or not."
   ]
  },
  {
   "cell_type": "code",
   "execution_count": 27,
   "metadata": {
    "scrolled": false
   },
   "outputs": [
    {
     "name": "stdout",
     "output_type": "stream",
     "text": [
      "(IMP(AND(NEG(R))(P))(Q))\n",
      "(NEG(IMP(IMP(OR(P)(NEG(Q)))(R))(AND(P)(R))))\n",
      "(OR(NEG(IMP(P)(Q)))(IMP(R)(P)))\n",
      "(OR(IMP(P)(Q))(IMP(Q)(NEG(P))))\n"
     ]
    }
   ],
   "source": [
    "for line in content:\n",
    "    formula = eval(line.strip())\n",
    "    print(prefix(formula))"
   ]
  },
  {
   "cell_type": "markdown",
   "metadata": {},
   "source": [
    "If you run your procedure on the input data, you should get something like the following output: \n",
    "\n",
    "(IMP(AND(NEG(R)P)Q)\n",
    "etc"
   ]
  },
  {
   "cell_type": "markdown",
   "metadata": {},
   "source": [
    "### Task 2: (2 Point) Write a procedure *evaluate* that calculates the value of a formula. \n",
    "\n",
    "Input to the procedure is the formula s, and the three truth values for variable P, Q and R. \n",
    "\n",
    "This is a procedural way to implement the \"meaning\" of the operators (which you can read from the Truth Tables)"
   ]
  },
  {
   "cell_type": "code",
   "execution_count": 40,
   "metadata": {},
   "outputs": [],
   "source": [
    "def evaluate(s, p, q, r):\n",
    "    if type(s) is Or:\n",
    "        child1 = s.children[0]\n",
    "        child2 = s.children[1]\n",
    "        return evaluate(child1,p,q,r) or evaluate(child2,p,q,r)\n",
    "    elif type(s) is Implies:\n",
    "        child1 = s.children[0]\n",
    "        child2 = s.children[1]\n",
    "        return (evaluate(child1,p,q,r) and evaluate(child2,p,q,r)) or not evaluate(child1,p,q,r)\n",
    "    elif type(s) is Not:\n",
    "        child1 = s.children[0]\n",
    "        return not evaluate(child1,p,q,r)\n",
    "    elif type(s) is And:\n",
    "        child1 = s.children[0]\n",
    "        child2 = s.children[1]\n",
    "        return evaluate(child1,p,q,r) and evaluate(child2,p,q,r)\n",
    "        \n",
    "    elif type(s) is Variable:        \n",
    "        if str(s) is 'P':\n",
    "            return p\n",
    "        elif str(s) is 'Q':\n",
    "            return q\n",
    "        elif str(s) is 'R':\n",
    "            return r\n",
    "        \n",
    "    else:\n",
    "        print(\"Something went wrong\") "
   ]
  },
  {
   "cell_type": "markdown",
   "metadata": {},
   "source": [
    "Execute the following line of code to check whether your procedure works correctly or not."
   ]
  },
  {
   "cell_type": "code",
   "execution_count": 41,
   "metadata": {},
   "outputs": [
    {
     "name": "stdout",
     "output_type": "stream",
     "text": [
      "True\n",
      "False\n",
      "True\n",
      "True\n"
     ]
    }
   ],
   "source": [
    "for l in content:\n",
    "     print(evaluate(eval(l.strip()),True,True,False))"
   ]
  },
  {
   "cell_type": "markdown",
   "metadata": {},
   "source": [
    "If you run your program on the given input, you should get an answer like this (modulo editing): <br />\n",
    "True<br />\n",
    "False<br />\n",
    "True<br />\n",
    "False<br />"
   ]
  },
  {
   "cell_type": "markdown",
   "metadata": {},
   "source": [
    "### Task 3: (1 Point) Write a procedure *tautology* that calculates whether a given formula (with maximally three variables P,Q and R) is a tautology \n",
    "Hint: Use the *evaluate* function you just wrote and implement a \"truthtable\" approach whether the formula is always evaluated as \"true\". "
   ]
  },
  {
   "cell_type": "code",
   "execution_count": 38,
   "metadata": {},
   "outputs": [],
   "source": [
    "def tautology(s):\n",
    "    return evaluate(s,True,True,True) and evaluate(s,False,True,True) and evaluate(s,True,False,True) and evaluate(s,True,True,False) and evaluate(s,False,False,True) and evaluate(s,False,True,False) and evaluate(s,True,False,False) and evaluate(s,False,False,False)\n",
    "        "
   ]
  },
  {
   "cell_type": "markdown",
   "metadata": {},
   "source": [
    "Execute the following line of code to check whether your procedure works correctly or not."
   ]
  },
  {
   "cell_type": "code",
   "execution_count": 39,
   "metadata": {},
   "outputs": [
    {
     "name": "stdout",
     "output_type": "stream",
     "text": [
      "False\n",
      "False\n",
      "False\n",
      "True\n"
     ]
    }
   ],
   "source": [
    "for l in content:\n",
    "     print(repr(tautology(eval(l.strip()))))"
   ]
  },
  {
   "cell_type": "markdown",
   "metadata": {},
   "source": [
    "When you evaluate your code on the provided input, you should get something like the following: <br />\n",
    "False<br />\n",
    "False<br />\n",
    "False<br />\n",
    "True<br />"
   ]
  },
  {
   "cell_type": "markdown",
   "metadata": {
    "collapsed": true
   },
   "source": [
    "## Exercises related to Simple Knowledge Graph Logic "
   ]
  },
  {
   "cell_type": "markdown",
   "metadata": {},
   "source": [
    "We will use a very simple, though crude and ugly, representation for Simple Knowledge Graph Logic: Resources are strings, and triples are lists of Resources. So, a triple ( s p o ) will be represented as a list [s,p,o], and a Knowledge Graph with two triples (s1, p1, o1) and (s2, p2, o2) as a list containing two lists: [[s1,p1,o1],[s2,p2,o2]].\n",
    "\n",
    "Every line contains a knowledge graph (one list). \n",
    "\n",
    "Run the following code to load the Knowledge Graph in knowledgegraph.txt"
   ]
  },
  {
   "cell_type": "code",
   "execution_count": 4,
   "metadata": {},
   "outputs": [],
   "source": [
    "import os \n",
    "fileDir = os.path.dirname(os.path.realpath('__file__'))\n",
    "filename = os.path.join(fileDir, 'knowledgegraph.txt')\n",
    "with open(filename) as file:\n",
    "    content = file.readlines()"
   ]
  },
  {
   "cell_type": "markdown",
   "metadata": {},
   "source": [
    "Maybe you want to write a function to print this graph for convenience ... (no extra points, though) "
   ]
  },
  {
   "cell_type": "code",
   "execution_count": 10,
   "metadata": {},
   "outputs": [
    {
     "name": "stdout",
     "output_type": "stream",
     "text": [
      "[['s','p','o'],['s','p1','o2'],['s2','p2','o']]\n",
      "\n",
      "[['Netherlands','name','\"Netherlands\"'],['Netherlands','has_capital','Amsterdam'],['Amsterdam','a','Capital']] \n",
      "\n",
      "[['Netherlands','name','\"Netherlands\"'],['Netherlands','has_capital','Amsterdam'],['Amsterdam','a','Capital'],['Capital','a','City'],['Netherlands','neighbours','Belgium'],['Netherlands','a','Country']] \n",
      "\n"
     ]
    }
   ],
   "source": [
    "for l in content:\n",
    "    print(l)"
   ]
  },
  {
   "cell_type": "markdown",
   "metadata": {},
   "source": [
    "The next two exercises are about syntactic transformation of Knowledge Graphs. The two target formats are simplified versions of syntaxes for the language RDF that we will introduce later. \n",
    "\n",
    "### Task 4a) (1 Point) Write a procedure to transform the Knowledge Graphs into Simple-n-triple syntax. \n",
    "Simple-n-triple is a simple (the most simple?) representation format for representing Knowledge Graphs. \n",
    "\n",
    "A triple (s,p,o) is simply written as as follows:\n",
    "\n",
    "     s p o . \n",
    "     \n",
    "As one string, with blanks between s,p and o, and a dot after the triple. \n",
    "\n",
    "First, write a function that transforms a triple ['s','p','o'] into a single string \"s p o .\""
   ]
  },
  {
   "cell_type": "code",
   "execution_count": 93,
   "metadata": {},
   "outputs": [],
   "source": [
    "def simplify(triple):\n",
    "    child1 = triple[0]\n",
    "    child2 = triple[1]\n",
    "    child3 = triple[2]\n",
    "    x = child1 + \" \" + child2 + \" \" + child3 + \" .\"\n",
    "    return x"
   ]
  },
  {
   "cell_type": "code",
   "execution_count": 94,
   "metadata": {},
   "outputs": [],
   "source": [
    "def ntriple(graph):\n",
    "    x = []\n",
    "    for i in graph:\n",
    "        y = simplify(i)\n",
    "        x.append(y) \n",
    "    return x"
   ]
  },
  {
   "cell_type": "markdown",
   "metadata": {},
   "source": [
    "Execute the following line of code to check whether your procedure works correctly or not."
   ]
  },
  {
   "cell_type": "code",
   "execution_count": 95,
   "metadata": {},
   "outputs": [
    {
     "name": "stdout",
     "output_type": "stream",
     "text": [
      "['s p o .', 's p1 o2 .', 's2 p2 o .']\n",
      "['Netherlands name \"Netherlands\" .', 'Netherlands has_capital Amsterdam .', 'Amsterdam a Capital .']\n",
      "['Netherlands name \"Netherlands\" .', 'Netherlands has_capital Amsterdam .', 'Amsterdam a Capital .', 'Capital a City .', 'Netherlands neighbours Belgium .', 'Netherlands a Country .']\n"
     ]
    }
   ],
   "source": [
    "for l in content:\n",
    "     print(ntriple(eval(l.strip())))"
   ]
  },
  {
   "cell_type": "markdown",
   "metadata": {},
   "source": [
    "Your answer could look like this: <br />\n",
    "['s p o .', 's p1 o2 .', 's2 p2 o .']<br />\n",
    "['Netherlands name \"Netherlands\" .', 'Netherlands has_capital Amsterdam .', 'Amsterdam a Capital .']<br />\n",
    "['Netherlands name \"Netherlands\" .', 'Netherlands has_capital Amsterdam .', 'Amsterdam a Capital .', 'Capital a City .', 'Netherlands neighbours Belgium .', 'Netherlands a Country .']<br />\n",
    "but it would also be ok if you return one string, where all string represetations for triples are concatenated into one string. If in doubt, post a question on Piazza. "
   ]
  },
  {
   "cell_type": "markdown",
   "metadata": {},
   "source": [
    "### Task 4b) (1 Point) Write a procedure to transform the Knowledge Graphs into *simpleturtle*. (1 extra point) \n",
    "Simpleturtle is a more compact format for representing Knowledge Graphs. \n",
    "\n",
    "A triple (s,p,o) is again written like in simple-n-triples: \"s p o .\" as one string, with blanks between s,p and o, and a dot after the triple. But now, suppose there are more triples with the same \"subject\", i.e. the first element of the triple, e.g. (s,p1,o1), (s,p2,o2) and (s,p1,o2). These triples will then be written in a more compact format, namely: \n",
    "\n",
    "(s p1 o1; p2 o2; p1 o2) \n",
    "\n",
    "The \";\" is interpreted as disjunction. \n",
    "\n",
    "Write such a function simpleturtle:"
   ]
  },
  {
   "cell_type": "code",
   "execution_count": 365,
   "metadata": {},
   "outputs": [],
   "source": [
    "def sortTurtle(triples):\n",
    "    sortedTriples = []\n",
    "    for i in range(len(triples)):\n",
    "        if not triples[i] in sortedTriples:\n",
    "            sortedTriples.extend(filter(lambda x: triples[i][0] in x[0], triples))\n",
    "    return(sortedTriples)\n",
    "\n",
    "def stringifyTurtle(triples):\n",
    "    retString = \"[\\n'\" + triples[0][0] + \" \" + triples[0][1] + \" \" + triples[0][2]\n",
    "    \n",
    "    for i in range(1, len(triples)):\n",
    "        item = triples[i]\n",
    "        if item[0] is not None:\n",
    "            retString += \" .',\\n'\" +item[0] + \" \" + item[1] + \" \" + item[2]\n",
    "        else:\n",
    "            retString += \" ;\\n   \" + item[1] + \" \" + item[2]\n",
    "    \n",
    "    retString += \".'\\n]\"\n",
    "    return(retString)\n",
    "\n",
    "\n",
    "def simpleturtle(triples):\n",
    "    triples = sortTurtle(triples)\n",
    "    \n",
    "    for i in range(len(triples)-1,0,-1):\n",
    "        if triples[i][0] == triples[i-1][0]:\n",
    "            triples[i][0] = None    \n",
    "    \n",
    "    return(stringifyTurtle(triples))"
   ]
  },
  {
   "cell_type": "markdown",
   "metadata": {},
   "source": [
    "Check whether your code works correctly: "
   ]
  },
  {
   "cell_type": "code",
   "execution_count": 366,
   "metadata": {},
   "outputs": [
    {
     "name": "stdout",
     "output_type": "stream",
     "text": [
      "[\n",
      "'s p o ;\n",
      "   p1 o2 .',\n",
      "'s2 p2 o.'\n",
      "]\n",
      "[\n",
      "'Netherlands name \"Netherlands\" ;\n",
      "   has_capital Amsterdam .',\n",
      "'Amsterdam a Capital.'\n",
      "]\n",
      "[\n",
      "'Netherlands name \"Netherlands\" ;\n",
      "   has_capital Amsterdam ;\n",
      "   neighbours Belgium ;\n",
      "   a Country .',\n",
      "'Amsterdam a Capital .',\n",
      "'Capital a City.'\n",
      "]\n"
     ]
    }
   ],
   "source": [
    "for l in content:\n",
    "     print(simpleturtle(eval(l.strip())))"
   ]
  },
  {
   "cell_type": "markdown",
   "metadata": {},
   "source": [
    "Your answer could look like this:<br />\n",
    "['s p o ; p1 o2 .', 's2 p2 o .']<br />\n",
    "['Netherlands name \"Netherlands ; has_capital Amsterdam .', 'Amsterdam a Capital .']<br />\n",
    "['Netherlands name \"Netherlands\" ; has_capital Amsterdam ; neighbours Belgium ; a Country .', 'Amsterdam a Capital .', 'Capital a City .']<br />\n",
    "but similar representations might also be ok (e.g. as strings). If in doubt, post a question on Piazza.<br />\n",
    "\n",
    "Most elegant would be if you add indents, such as a representation<br />\n",
    "[<br />\n",
    "'s p o ; <br />\n",
    "&nbsp;&nbsp;&nbsp;&nbsp;    p1 o2 .', <br />\n",
    "'s2 p2 o .'<br />\n",
    "]<br />\n",
    "This is more close to the \"real\" Turtle format. "
   ]
  },
  {
   "cell_type": "markdown",
   "metadata": {},
   "source": [
    "### Task 5) (2 Point) Write a procedure to evaluate whether a Triple (s p o) is entailed by your Knowledge Graph\n",
    "\n",
    "Remember that we can calculate whether a triple is entailed by a Knowledge Graph (w.r.t Simple Knowledge Graph Logic) by simply checking whether the triple is a subgraph of the knowledge graph.  \n",
    "\n",
    "The triples, on which you can test your implementations are located in the file: entailedTriple.txt. You need to open the file and check for all triples whether it is entailed by the knowledge graphs in knowledgegraph.txt (which is already opened). \n",
    "\n",
    "You might want to add auxiliary functions in extra cells if necessary."
   ]
  },
  {
   "cell_type": "code",
   "execution_count": 367,
   "metadata": {},
   "outputs": [],
   "source": [
    "import os \n",
    "fileDir = os.path.dirname(os.path.realpath('__file__'))\n",
    "filename = os.path.join(fileDir, 'entailedTriples.txt')\n",
    "with open(filename) as file:\n",
    "    content2 = file.readlines()"
   ]
  },
  {
   "cell_type": "code",
   "execution_count": 372,
   "metadata": {},
   "outputs": [],
   "source": [
    "def tripleEntail(graph, triple):\n",
    "    if triple in graph:\n",
    "        print(graph, \" entails \", triple)\n",
    "    else:\n",
    "        print(graph, \" does NOT entail \", triple)"
   ]
  },
  {
   "cell_type": "markdown",
   "metadata": {},
   "source": [
    "Provide some code to check that your function works correctly.  "
   ]
  },
  {
   "cell_type": "code",
   "execution_count": 373,
   "metadata": {},
   "outputs": [
    {
     "name": "stdout",
     "output_type": "stream",
     "text": [
      "[['s', 'p', 'o'], ['s', 'p1', 'o2'], ['s2', 'p2', 'o']]  entails  ['s2', 'p2', 'o']\n",
      "[['s', 'p', 'o'], ['s', 'p1', 'o2'], ['s2', 'p2', 'o']]  does NOT entail  ['Netherlands', 'name', '\"Netherlands\"']\n",
      "[['Netherlands', 'name', '\"Netherlands\"'], ['Netherlands', 'has_capital', 'Amsterdam'], ['Amsterdam', 'a', 'Capital']]  does NOT entail  ['s2', 'p2', 'o']\n",
      "[['Netherlands', 'name', '\"Netherlands\"'], ['Netherlands', 'has_capital', 'Amsterdam'], ['Amsterdam', 'a', 'Capital']]  entails  ['Netherlands', 'name', '\"Netherlands\"']\n",
      "[['Netherlands', 'name', '\"Netherlands\"'], ['Netherlands', 'has_capital', 'Amsterdam'], ['Amsterdam', 'a', 'Capital'], ['Capital', 'a', 'City'], ['Netherlands', 'neighbours', 'Belgium'], ['Netherlands', 'a', 'Country']]  does NOT entail  ['s2', 'p2', 'o']\n",
      "[['Netherlands', 'name', '\"Netherlands\"'], ['Netherlands', 'has_capital', 'Amsterdam'], ['Amsterdam', 'a', 'Capital'], ['Capital', 'a', 'City'], ['Netherlands', 'neighbours', 'Belgium'], ['Netherlands', 'a', 'Country']]  entails  ['Netherlands', 'name', '\"Netherlands\"']\n"
     ]
    }
   ],
   "source": [
    "for l in content:\n",
    "    for i in content2:\n",
    "         tripleEntail(eval(l.strip()),eval(i.strip()))"
   ]
  },
  {
   "cell_type": "markdown",
   "metadata": {},
   "source": [
    "The expected output is a list of relations between graphs and triples<br />\n",
    "[['s','p','o'],['s','p1','o2'],['s2','p2','o']] entails ['s2','p2','o']<br />\n",
    "[['s','p','o'],['s','p1','o2'],['s2','p2','o']] does NOT entail ['Netherlands','name','\"Netherlands\"']<br />\n",
    "and so on for all graphs and triples. "
   ]
  },
  {
   "cell_type": "markdown",
   "metadata": {},
   "source": [
    "### Task 6) (2 Point) Write a procedure to evaluate whether one Knowledge Graph is entailed by another Knowledge Graph"
   ]
  },
  {
   "cell_type": "markdown",
   "metadata": {},
   "source": [
    "The graphs, on which you can test your implementations are located in the file: entailedGraphs.txt. \n",
    "\n",
    "You might want to add auxiliary functions in extra cells if necessary."
   ]
  },
  {
   "cell_type": "code",
   "execution_count": 5,
   "metadata": {},
   "outputs": [],
   "source": [
    "import os \n",
    "fileDir = os.path.dirname(os.path.realpath('__file__'))\n",
    "filename = os.path.join(fileDir, 'entailedGraphs.txt')\n",
    "with open(filename) as file:\n",
    "    content3 = file.readlines()"
   ]
  },
  {
   "cell_type": "code",
   "execution_count": 25,
   "metadata": {},
   "outputs": [],
   "source": [
    "def graphEntail(kgraph, egraph):\n",
    "    for i in egraph:\n",
    "        if i not in kgraph:\n",
    "            return(print(kgraph, \"does NOT entail\", egraph))\n",
    "    return(print(kgraph, \"entails\", egraph))\n",
    "    \n",
    "    \n",
    "            "
   ]
  },
  {
   "cell_type": "markdown",
   "metadata": {},
   "source": [
    "Provide some code to check that your function works correctly.  "
   ]
  },
  {
   "cell_type": "code",
   "execution_count": 26,
   "metadata": {},
   "outputs": [
    {
     "name": "stdout",
     "output_type": "stream",
     "text": [
      "[['s', 'p', 'o'], ['s', 'p1', 'o2'], ['s2', 'p2', 'o']] entails [['s2', 'p2', 'o'], ['s2', 'p2', 'o']]\n",
      "[['s', 'p', 'o'], ['s', 'p1', 'o2'], ['s2', 'p2', 'o']] entails [['s', 'p', 'o'], ['s2', 'p2', 'o']]\n",
      "[['s', 'p', 'o'], ['s', 'p1', 'o2'], ['s2', 'p2', 'o']] does NOT entail [['Netherlands', 'name', '\"Netherlands\"'], ['Netherlands', 'has_capital', 'Amsterdam'], ['Capital', 'a', 'City'], ['Netherlands', 'neighbours', 'Belgium']]\n",
      "[['s', 'p', 'o'], ['s', 'p1', 'o2'], ['s2', 'p2', 'o']] does NOT entail [['Netherlands', 'has_capital', 'Amsterdam'], ['Capital', 'a', 'Country'], ['Netherlands', 'neighbours', 'Belgium']]\n",
      "[['Netherlands', 'name', '\"Netherlands\"'], ['Netherlands', 'has_capital', 'Amsterdam'], ['Amsterdam', 'a', 'Capital']] does NOT entail [['s2', 'p2', 'o'], ['s2', 'p2', 'o']]\n",
      "[['Netherlands', 'name', '\"Netherlands\"'], ['Netherlands', 'has_capital', 'Amsterdam'], ['Amsterdam', 'a', 'Capital']] does NOT entail [['s', 'p', 'o'], ['s2', 'p2', 'o']]\n",
      "[['Netherlands', 'name', '\"Netherlands\"'], ['Netherlands', 'has_capital', 'Amsterdam'], ['Amsterdam', 'a', 'Capital']] does NOT entail [['Netherlands', 'name', '\"Netherlands\"'], ['Netherlands', 'has_capital', 'Amsterdam'], ['Capital', 'a', 'City'], ['Netherlands', 'neighbours', 'Belgium']]\n",
      "[['Netherlands', 'name', '\"Netherlands\"'], ['Netherlands', 'has_capital', 'Amsterdam'], ['Amsterdam', 'a', 'Capital']] does NOT entail [['Netherlands', 'has_capital', 'Amsterdam'], ['Capital', 'a', 'Country'], ['Netherlands', 'neighbours', 'Belgium']]\n",
      "[['Netherlands', 'name', '\"Netherlands\"'], ['Netherlands', 'has_capital', 'Amsterdam'], ['Amsterdam', 'a', 'Capital'], ['Capital', 'a', 'City'], ['Netherlands', 'neighbours', 'Belgium'], ['Netherlands', 'a', 'Country']] does NOT entail [['s2', 'p2', 'o'], ['s2', 'p2', 'o']]\n",
      "[['Netherlands', 'name', '\"Netherlands\"'], ['Netherlands', 'has_capital', 'Amsterdam'], ['Amsterdam', 'a', 'Capital'], ['Capital', 'a', 'City'], ['Netherlands', 'neighbours', 'Belgium'], ['Netherlands', 'a', 'Country']] does NOT entail [['s', 'p', 'o'], ['s2', 'p2', 'o']]\n",
      "[['Netherlands', 'name', '\"Netherlands\"'], ['Netherlands', 'has_capital', 'Amsterdam'], ['Amsterdam', 'a', 'Capital'], ['Capital', 'a', 'City'], ['Netherlands', 'neighbours', 'Belgium'], ['Netherlands', 'a', 'Country']] entails [['Netherlands', 'name', '\"Netherlands\"'], ['Netherlands', 'has_capital', 'Amsterdam'], ['Capital', 'a', 'City'], ['Netherlands', 'neighbours', 'Belgium']]\n",
      "[['Netherlands', 'name', '\"Netherlands\"'], ['Netherlands', 'has_capital', 'Amsterdam'], ['Amsterdam', 'a', 'Capital'], ['Capital', 'a', 'City'], ['Netherlands', 'neighbours', 'Belgium'], ['Netherlands', 'a', 'Country']] does NOT entail [['Netherlands', 'has_capital', 'Amsterdam'], ['Capital', 'a', 'Country'], ['Netherlands', 'neighbours', 'Belgium']]\n"
     ]
    }
   ],
   "source": [
    "for l in content:\n",
    "    for i in content3:\n",
    "         graphEntail(eval(l.strip()),eval(i.strip()))"
   ]
  },
  {
   "cell_type": "markdown",
   "metadata": {},
   "source": [
    "The expected output is a list of relations between graphs and graphs<br />\n",
    "[['s','p','o'],['s','p1','o2'],['s2','p2','o']] entails [['s','p','o'],['s2','p2','o']]<br />\n",
    "[['s','p','o'],['s','p1','o2'],['s2','p2','o']] entails [['s2','p2','o'],['s2','p2','o']]<br />\n",
    "[['s','p','o'],['s','p1','o2'],['s2','p2','o']] does NOT entail [['Netherlands','name','\"Netherlands\"'],['Netherlands','has_capital','Amsterdam'],['Capital','a','City'],['Netherlands','neighbours','Belgium']]\n",
    " [['s','p','o'],['s2','p2','o']]<br />\n",
    "and so on for all graphs and triples. "
   ]
  }
 ],
 "metadata": {
  "kernelspec": {
   "display_name": "Python 3",
   "language": "python",
   "name": "python3"
  }
 },
 "nbformat": 4,
 "nbformat_minor": 2
}
